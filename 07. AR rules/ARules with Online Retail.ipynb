{
  "cells": [
    {
      "cell_type": "code",
      "execution_count": 1,
      "metadata": {
        "colab": {},
        "colab_type": "code",
        "id": "vnEIep1wr-hK",
        "pycharm": {
          "is_executing": false
        }
      },
      "outputs": [],
      "source": [
        "from IPython.display import display, Math, Latex\n",
        "from IPython.core.display import HTML "
      ]
    },
    {
      "cell_type": "code",
      "execution_count": 2,
      "metadata": {
        "colab": {},
        "colab_type": "code",
        "id": "kkhYBsagr-hn",
        "pycharm": {
          "is_executing": false
        }
      },
      "outputs": [],
      "source": [
        "# подгрузим модули\n",
        "import numpy as np\n",
        "import matplotlib.pyplot as plt\n",
        "import pandas as pd\n",
        "import csv"
      ]
    },
    {
      "cell_type": "code",
      "execution_count": 3,
      "metadata": {
        "pycharm": {
          "is_executing": false
        }
      },
      "outputs": [],
      "source": "dataset \u003d pd.read_csv(\u0027./data/Online_Retail.csv\u0027,delimiter \u003d \";\") "
    },
    {
      "cell_type": "code",
      "execution_count": 4,
      "metadata": {
        "colab": {},
        "colab_type": "code",
        "id": "A2oJ9Lslr-hr",
        "outputId": "70b5a8d1-ff8a-4718-be21-1f22897b9fe6",
        "pycharm": {
          "is_executing": false
        }
      },
      "outputs": [
        {
          "data": {
            "text/plain": "  InvoiceNo StockCode                          Description  Quantity  \\\n0    536365    85123A   WHITE HANGING HEART T-LIGHT HOLDER         6   \n1    536365     71053                  WHITE METAL LANTERN         6   \n2    536365    84406B       CREAM CUPID HEARTS COAT HANGER         8   \n3    536365    84029G  KNITTED UNION FLAG HOT WATER BOTTLE         6   \n4    536365    84029E       RED WOOLLY HOTTIE WHITE HEART.         6   \n\n     InvoiceDate UnitPrice  CustomerID         Country  \n0  01 12 10 8:26      2,55     17850.0  United Kingdom  \n1  01 12 10 8:26      3,39     17850.0  United Kingdom  \n2  01 12 10 8:26      2,75     17850.0  United Kingdom  \n3  01 12 10 8:26      3,39     17850.0  United Kingdom  \n4  01 12 10 8:26      3,39     17850.0  United Kingdom  ",
            "text/html": "\u003cdiv\u003e\n\u003cstyle scoped\u003e\n    .dataframe tbody tr th:only-of-type {\n        vertical-align: middle;\n    }\n\n    .dataframe tbody tr th {\n        vertical-align: top;\n    }\n\n    .dataframe thead th {\n        text-align: right;\n    }\n\u003c/style\u003e\n\u003ctable border\u003d\"1\" class\u003d\"dataframe\"\u003e\n  \u003cthead\u003e\n    \u003ctr style\u003d\"text-align: right;\"\u003e\n      \u003cth\u003e\u003c/th\u003e\n      \u003cth\u003eInvoiceNo\u003c/th\u003e\n      \u003cth\u003eStockCode\u003c/th\u003e\n      \u003cth\u003eDescription\u003c/th\u003e\n      \u003cth\u003eQuantity\u003c/th\u003e\n      \u003cth\u003eInvoiceDate\u003c/th\u003e\n      \u003cth\u003eUnitPrice\u003c/th\u003e\n      \u003cth\u003eCustomerID\u003c/th\u003e\n      \u003cth\u003eCountry\u003c/th\u003e\n    \u003c/tr\u003e\n  \u003c/thead\u003e\n  \u003ctbody\u003e\n    \u003ctr\u003e\n      \u003cth\u003e0\u003c/th\u003e\n      \u003ctd\u003e536365\u003c/td\u003e\n      \u003ctd\u003e85123A\u003c/td\u003e\n      \u003ctd\u003eWHITE HANGING HEART T-LIGHT HOLDER\u003c/td\u003e\n      \u003ctd\u003e6\u003c/td\u003e\n      \u003ctd\u003e01 12 10 8:26\u003c/td\u003e\n      \u003ctd\u003e2,55\u003c/td\u003e\n      \u003ctd\u003e17850.0\u003c/td\u003e\n      \u003ctd\u003eUnited Kingdom\u003c/td\u003e\n    \u003c/tr\u003e\n    \u003ctr\u003e\n      \u003cth\u003e1\u003c/th\u003e\n      \u003ctd\u003e536365\u003c/td\u003e\n      \u003ctd\u003e71053\u003c/td\u003e\n      \u003ctd\u003eWHITE METAL LANTERN\u003c/td\u003e\n      \u003ctd\u003e6\u003c/td\u003e\n      \u003ctd\u003e01 12 10 8:26\u003c/td\u003e\n      \u003ctd\u003e3,39\u003c/td\u003e\n      \u003ctd\u003e17850.0\u003c/td\u003e\n      \u003ctd\u003eUnited Kingdom\u003c/td\u003e\n    \u003c/tr\u003e\n    \u003ctr\u003e\n      \u003cth\u003e2\u003c/th\u003e\n      \u003ctd\u003e536365\u003c/td\u003e\n      \u003ctd\u003e84406B\u003c/td\u003e\n      \u003ctd\u003eCREAM CUPID HEARTS COAT HANGER\u003c/td\u003e\n      \u003ctd\u003e8\u003c/td\u003e\n      \u003ctd\u003e01 12 10 8:26\u003c/td\u003e\n      \u003ctd\u003e2,75\u003c/td\u003e\n      \u003ctd\u003e17850.0\u003c/td\u003e\n      \u003ctd\u003eUnited Kingdom\u003c/td\u003e\n    \u003c/tr\u003e\n    \u003ctr\u003e\n      \u003cth\u003e3\u003c/th\u003e\n      \u003ctd\u003e536365\u003c/td\u003e\n      \u003ctd\u003e84029G\u003c/td\u003e\n      \u003ctd\u003eKNITTED UNION FLAG HOT WATER BOTTLE\u003c/td\u003e\n      \u003ctd\u003e6\u003c/td\u003e\n      \u003ctd\u003e01 12 10 8:26\u003c/td\u003e\n      \u003ctd\u003e3,39\u003c/td\u003e\n      \u003ctd\u003e17850.0\u003c/td\u003e\n      \u003ctd\u003eUnited Kingdom\u003c/td\u003e\n    \u003c/tr\u003e\n    \u003ctr\u003e\n      \u003cth\u003e4\u003c/th\u003e\n      \u003ctd\u003e536365\u003c/td\u003e\n      \u003ctd\u003e84029E\u003c/td\u003e\n      \u003ctd\u003eRED WOOLLY HOTTIE WHITE HEART.\u003c/td\u003e\n      \u003ctd\u003e6\u003c/td\u003e\n      \u003ctd\u003e01 12 10 8:26\u003c/td\u003e\n      \u003ctd\u003e3,39\u003c/td\u003e\n      \u003ctd\u003e17850.0\u003c/td\u003e\n      \u003ctd\u003eUnited Kingdom\u003c/td\u003e\n    \u003c/tr\u003e\n  \u003c/tbody\u003e\n\u003c/table\u003e\n\u003c/div\u003e"
          },
          "metadata": {},
          "output_type": "execute_result",
          "execution_count": 4
        }
      ],
      "source": [
        "# посомтрим на датасет\n",
        "dataset.head()"
      ]
    },
    {
      "cell_type": "code",
      "execution_count": 5,
      "metadata": {
        "colab": {},
        "colab_type": "code",
        "id": "56GEPnqhr-hz",
        "pycharm": {
          "is_executing": false
        }
      },
      "outputs": [],
      "source": [
        "transactions \u003d []\n",
        "for i in range(0, 7000): \n",
        "    transactions.append([str(dataset.values[i,j]) for j in [0, len(dataset.columns) - 1]])"
      ]
    },
    {
      "cell_type": "code",
      "execution_count": 6,
      "metadata": {
        "colab": {},
        "colab_type": "code",
        "id": "3TJ_vIBer-h1",
        "pycharm": {
          "is_executing": false
        }
      },
      "outputs": [],
      "source": [
        "import apyori\n",
        "from apyori import apriori"
      ]
    },
    {
      "cell_type": "code",
      "execution_count": 7,
      "metadata": {
        "colab": {},
        "colab_type": "code",
        "id": "9HphMwvvr-h3",
        "outputId": "476aa343-e328-4acd-9650-07b2046236cd",
        "pycharm": {
          "is_executing": false
        }
      },
      "outputs": [
        {
          "name": "stdout",
          "text": [
            "Wall time: 12 ms\n"
          ],
          "output_type": "stream"
        }
      ],
      "source": [
        "%%time\n",
        "# и обучимся правилам. Обратите внимание, что пороговые значения мы вибираем сами в зависимости от того, /\n",
        "# насколкьо \"сильные\" правила мы хотим получить\n",
        "# min_support -- минимальный support для правил (dtype \u003d float).\n",
        "# min_confidence -- минимальное значение confidence для правил (dtype \u003d float)\n",
        "# min_lift -- минимальный lift (dtype \u003d float)\n",
        "# max_length -- максимальная длина itemset (вспоминаем про k-itemset)  (dtype \u003d integer)\n",
        "\n",
        "result \u003d list(apriori(transactions, min_support \u003d 0.003, min_confidence \u003d 0.2, min_lift \u003d 4, min_length \u003d 2, max_length \u003d 2))"
      ]
    },
    {
      "cell_type": "markdown",
      "metadata": {
        "colab_type": "text",
        "collapsed": true,
        "id": "Gi_AzszUr-h5",
        "pycharm": {}
      },
      "source": [
        "Визуализируем выход"
      ]
    },
    {
      "cell_type": "code",
      "execution_count": 8,
      "metadata": {
        "colab": {},
        "colab_type": "code",
        "id": "P1oyfI0or-h5",
        "pycharm": {
          "is_executing": false
        }
      },
      "outputs": [],
      "source": [
        "import shutil, os "
      ]
    },
    {
      "cell_type": "code",
      "execution_count": 9,
      "metadata": {
        "colab": {},
        "colab_type": "code",
        "id": "XDdoAhz4r-h7",
        "pycharm": {
          "is_executing": false
        }
      },
      "outputs": [],
      "source": [
        "try:\n",
        "    from StringIO import StringIO\n",
        "except ImportError:\n",
        "    from io import StringIO"
      ]
    },
    {
      "cell_type": "code",
      "execution_count": 10,
      "metadata": {
        "colab": {},
        "colab_type": "code",
        "id": "M_XNyyOlr-h9",
        "pycharm": {
          "is_executing": false
        }
      },
      "outputs": [],
      "source": [
        "import json #преобразовывать будем в json, используя встроенные в модуль методы"
      ]
    },
    {
      "cell_type": "code",
      "execution_count": 11,
      "metadata": {
        "colab": {},
        "colab_type": "code",
        "id": "18NFjx-Or-iA",
        "pycharm": {
          "is_executing": false
        }
      },
      "outputs": [],
      "source": [
        "output \u003d []\n",
        "for RelationRecord in result:\n",
        "    o \u003d StringIO()\n",
        "    apyori.dump_as_json(RelationRecord, o)\n",
        "    output.append(json.loads(o.getvalue()))\n",
        "data_df \u003d pd.DataFrame(output)"
      ]
    },
    {
      "cell_type": "code",
      "execution_count": 12,
      "metadata": {
        "colab": {},
        "colab_type": "code",
        "id": "ClRNZLV7r-iC",
        "outputId": "235b6226-d0be-42a1-b2ba-45656640479e",
        "pycharm": {
          "is_executing": false
        }
      },
      "outputs": [
        {
          "traceback": [
            "\u001b[1;31m---------------------------------------------------------------------------\u001b[0m",
            "\u001b[1;31mValueError\u001b[0m                                Traceback (most recent call last)",
            "\u001b[1;32m\u003cipython-input-12-9b6c42483974\u003e\u001b[0m in \u001b[0;36m\u003cmodule\u003e\u001b[1;34m\u001b[0m\n\u001b[0;32m      1\u001b[0m \u001b[1;31m# и взгялнем на итоги\u001b[0m\u001b[1;33m\u001b[0m\u001b[1;33m\u001b[0m\u001b[1;33m\u001b[0m\u001b[0m\n\u001b[1;32m----\u003e 2\u001b[1;33m \u001b[0mpd\u001b[0m\u001b[1;33m.\u001b[0m\u001b[0mset_option\u001b[0m\u001b[1;33m(\u001b[0m\u001b[1;34m\u0027display.max_colwidth\u0027\u001b[0m\u001b[1;33m,\u001b[0m \u001b[1;32mNone\u001b[0m\u001b[1;33m)\u001b[0m\u001b[1;33m\u001b[0m\u001b[1;33m\u001b[0m\u001b[0m\n\u001b[0m\u001b[0;32m      3\u001b[0m \u001b[1;33m\u001b[0m\u001b[0m\n\u001b[0;32m      4\u001b[0m \u001b[1;32mfrom\u001b[0m \u001b[0mIPython\u001b[0m\u001b[1;33m.\u001b[0m\u001b[0mdisplay\u001b[0m \u001b[1;32mimport\u001b[0m \u001b[0mdisplay\u001b[0m\u001b[1;33m,\u001b[0m \u001b[0mHTML\u001b[0m\u001b[1;33m\u001b[0m\u001b[1;33m\u001b[0m\u001b[0m\n\u001b[0;32m      5\u001b[0m \u001b[1;33m\u001b[0m\u001b[0m\n",
            "\u001b[1;32mc:\\users\\самат\\appdata\\local\\programs\\python\\python37\\lib\\site-packages\\pandas\\core\\config.py\u001b[0m in \u001b[0;36m__call__\u001b[1;34m(self, *args, **kwds)\u001b[0m\n\u001b[0;32m    225\u001b[0m \u001b[1;33m\u001b[0m\u001b[0m\n\u001b[0;32m    226\u001b[0m     \u001b[1;32mdef\u001b[0m \u001b[0m__call__\u001b[0m\u001b[1;33m(\u001b[0m\u001b[0mself\u001b[0m\u001b[1;33m,\u001b[0m \u001b[1;33m*\u001b[0m\u001b[0margs\u001b[0m\u001b[1;33m,\u001b[0m \u001b[1;33m**\u001b[0m\u001b[0mkwds\u001b[0m\u001b[1;33m)\u001b[0m\u001b[1;33m:\u001b[0m\u001b[1;33m\u001b[0m\u001b[1;33m\u001b[0m\u001b[0m\n\u001b[1;32m--\u003e 227\u001b[1;33m         \u001b[1;32mreturn\u001b[0m \u001b[0mself\u001b[0m\u001b[1;33m.\u001b[0m\u001b[0m__func__\u001b[0m\u001b[1;33m(\u001b[0m\u001b[1;33m*\u001b[0m\u001b[0margs\u001b[0m\u001b[1;33m,\u001b[0m \u001b[1;33m**\u001b[0m\u001b[0mkwds\u001b[0m\u001b[1;33m)\u001b[0m\u001b[1;33m\u001b[0m\u001b[1;33m\u001b[0m\u001b[0m\n\u001b[0m\u001b[0;32m    228\u001b[0m \u001b[1;33m\u001b[0m\u001b[0m\n\u001b[0;32m    229\u001b[0m     \u001b[1;33m@\u001b[0m\u001b[0mproperty\u001b[0m\u001b[1;33m\u001b[0m\u001b[1;33m\u001b[0m\u001b[0m\n",
            "\u001b[1;32mc:\\users\\самат\\appdata\\local\\programs\\python\\python37\\lib\\site-packages\\pandas\\core\\config.py\u001b[0m in \u001b[0;36m_set_option\u001b[1;34m(*args, **kwargs)\u001b[0m\n\u001b[0;32m    121\u001b[0m         \u001b[0mo\u001b[0m \u001b[1;33m\u003d\u001b[0m \u001b[0m_get_registered_option\u001b[0m\u001b[1;33m(\u001b[0m\u001b[0mkey\u001b[0m\u001b[1;33m)\u001b[0m\u001b[1;33m\u001b[0m\u001b[1;33m\u001b[0m\u001b[0m\n\u001b[0;32m    122\u001b[0m         \u001b[1;32mif\u001b[0m \u001b[0mo\u001b[0m \u001b[1;32mand\u001b[0m \u001b[0mo\u001b[0m\u001b[1;33m.\u001b[0m\u001b[0mvalidator\u001b[0m\u001b[1;33m:\u001b[0m\u001b[1;33m\u001b[0m\u001b[1;33m\u001b[0m\u001b[0m\n\u001b[1;32m--\u003e 123\u001b[1;33m             \u001b[0mo\u001b[0m\u001b[1;33m.\u001b[0m\u001b[0mvalidator\u001b[0m\u001b[1;33m(\u001b[0m\u001b[0mv\u001b[0m\u001b[1;33m)\u001b[0m\u001b[1;33m\u001b[0m\u001b[1;33m\u001b[0m\u001b[0m\n\u001b[0m\u001b[0;32m    124\u001b[0m \u001b[1;33m\u001b[0m\u001b[0m\n\u001b[0;32m    125\u001b[0m         \u001b[1;31m# walk the nested dict\u001b[0m\u001b[1;33m\u001b[0m\u001b[1;33m\u001b[0m\u001b[1;33m\u001b[0m\u001b[0m\n",
            "\u001b[1;32mc:\\users\\самат\\appdata\\local\\programs\\python\\python37\\lib\\site-packages\\pandas\\core\\config.py\u001b[0m in \u001b[0;36minner\u001b[1;34m(x)\u001b[0m\n\u001b[0;32m    758\u001b[0m         \u001b[1;32mif\u001b[0m \u001b[0mtype\u001b[0m\u001b[1;33m(\u001b[0m\u001b[0mx\u001b[0m\u001b[1;33m)\u001b[0m \u001b[1;33m!\u003d\u001b[0m \u001b[0m_type\u001b[0m\u001b[1;33m:\u001b[0m\u001b[1;33m\u001b[0m\u001b[1;33m\u001b[0m\u001b[0m\n\u001b[0;32m    759\u001b[0m             \u001b[0mmsg\u001b[0m \u001b[1;33m\u003d\u001b[0m \u001b[1;34m\"Value must have type \u0027{typ!s}\u0027\"\u001b[0m\u001b[1;33m\u001b[0m\u001b[1;33m\u001b[0m\u001b[0m\n\u001b[1;32m--\u003e 760\u001b[1;33m             \u001b[1;32mraise\u001b[0m \u001b[0mValueError\u001b[0m\u001b[1;33m(\u001b[0m\u001b[0mmsg\u001b[0m\u001b[1;33m.\u001b[0m\u001b[0mformat\u001b[0m\u001b[1;33m(\u001b[0m\u001b[0mtyp\u001b[0m\u001b[1;33m\u003d\u001b[0m\u001b[0m_type\u001b[0m\u001b[1;33m)\u001b[0m\u001b[1;33m)\u001b[0m\u001b[1;33m\u001b[0m\u001b[1;33m\u001b[0m\u001b[0m\n\u001b[0m\u001b[0;32m    761\u001b[0m \u001b[1;33m\u001b[0m\u001b[0m\n\u001b[0;32m    762\u001b[0m     \u001b[1;32mreturn\u001b[0m \u001b[0minner\u001b[0m\u001b[1;33m\u001b[0m\u001b[1;33m\u001b[0m\u001b[0m\n",
            "\u001b[1;31mValueError\u001b[0m: Value must have type \u0027\u003cclass \u0027int\u0027\u003e\u0027"
          ],
          "ename": "ValueError",
          "evalue": "Value must have type \u0027\u003cclass \u0027int\u0027\u003e\u0027",
          "output_type": "error"
        }
      ],
      "source": [
        "# и взгялнем на итоги\n",
        "pd.set_option(\u0027display.max_colwidth\u0027, None)\n",
        "\n",
        "from IPython.display import display, HTML\n",
        "\n",
        "display(HTML(data_df.to_html()))"
      ]
    },
    {
      "cell_type": "markdown",
      "metadata": {
        "colab_type": "text",
        "id": "jnevOHgPr-iE",
        "pycharm": {}
      },
      "source": [
        "Итого мы видим:\n",
        "\n",
        "1. Пары items\n",
        "2. items_base - первый элемент пары\n",
        "3. items_add - второй (добавленный алгоритмом) элемент пары\n",
        "4. confidence - значение confidence для пары\n",
        "5. lift - значение lift для пары\n",
        "6. support - начение support для пары. При желании, по нему можно отсортировать "
      ]
    },
    {
      "cell_type": "markdown",
      "metadata": {
        "colab_type": "text",
        "id": "wGGnoV0Xr-iL",
        "pycharm": {}
      },
      "source": [
        "### ECLAT Algorithm"
      ]
    },
    {
      "cell_type": "markdown",
      "metadata": {
        "colab_type": "text",
        "id": "JN6PihBfr-iR",
        "pycharm": {}
      },
      "source": [
        "#### Реализация в Python"
      ]
    },
    {
      "cell_type": "code",
      "execution_count": null,
      "metadata": {
        "colab": {},
        "colab_type": "code",
        "executionInfo": {
          "elapsed": 754,
          "status": "ok",
          "timestamp": 1599552043860,
          "user": {
            "displayName": "Алсу Нурутдинова",
            "photoUrl": "",
            "userId": "04111228134967302103"
          },
          "user_tz": -180
        },
        "id": "p-fKb21ar-iS",
        "pycharm": {
          "is_executing": true
        }
      },
      "outputs": [],
      "source": [
        "import numpy as np\n",
        "\"\"\"\n",
        "Класс инициируется 3мя параметрами:\n",
        "- min_supp - минимальный support  который мы рассматриваем для ItemSet. Рассчитывается как % от количества транзакций\n",
        "- max_items - максимальное количество елементов в нашем ItemSet\n",
        "- min_items - минимальное количество элементов ItemSet\n",
        "\"\"\"\n",
        "class Eclat:\n",
        "    #инициализация объекта класса\n",
        "    def __init__(self, min_support \u003d 0.01, max_items \u003d 5, min_items \u003d 2):\n",
        "        self.min_support \u003d min_support\n",
        "        self.max_items \u003d max_items\n",
        "        self.min_items \u003d min_items\n",
        "        self.item_lst \u003d list()\n",
        "        self.item_len \u003d 0\n",
        "        self.item_dict \u003d dict()\n",
        "        self.final_dict \u003d dict()\n",
        "        self.data_size \u003d 0\n",
        "    \n",
        "    #создание словаря из ненулевых объектов из всех транзакций (вертикальный датасет)\n",
        "    def read_data(self, dataset):\n",
        "        for index, row in dataset.iterrows():\n",
        "            row_wo_na \u003d row.dropna().unique()\n",
        "            for item in row_wo_na:\n",
        "                item \u003d str(item).strip()\n",
        "                if item in self.item_dict:\n",
        "                    self.item_dict[item][0] +\u003d 1\n",
        "                else:\n",
        "                    self.item_dict.setdefault(item, []).append(1)\n",
        "                self.item_dict[item].append(index)\n",
        "        #задаем переменные экземпляра (instance variables)\n",
        "        self.data_size \u003d dataset.shape[0]\n",
        "        self.item_lst \u003d list(self.item_dict.keys())\n",
        "        self.item_len \u003d len(self.item_lst)\n",
        "        self.min_support \u003d self.min_support * self.data_size\n",
        "        #print (\"min_supp\", self.min_support)\n",
        "        \n",
        "    #рекурсивный метод для поиска всех ItemSet по алгоритму Eclat\n",
        "    #структура данных: {Item: [Supp number, tid1, tid2, tid3, ...]}\n",
        "    def recur_eclat(self, item_name, tids_array, minsupp, num_items, k_start):\n",
        "        if tids_array[0] \u003e\u003d minsupp and num_items \u003c\u003d self.max_items:\n",
        "            for k in range(k_start+1, self.item_len):\n",
        "                if self.item_dict[self.item_lst[k]][0] \u003e\u003d minsupp:\n",
        "                    new_item \u003d item_name + \" | \" + self.item_lst[k]\n",
        "                    new_tids \u003d np.intersect1d(tids_array[1:], self.item_dict[self.item_lst[k]][1:])\n",
        "                    new_tids_size \u003d new_tids.size\n",
        "                    new_tids \u003d np.insert(new_tids, 0, new_tids_size)\n",
        "                    if new_tids_size \u003e\u003d minsupp:\n",
        "                        if num_items \u003e\u003d self.min_items: self.final_dict.update({new_item: new_tids})\n",
        "                        self.recur_eclat(new_item, new_tids, minsupp, num_items+1, k)\n",
        "    \n",
        "    #последовательный вызов функций определенных выше\n",
        "    def fit(self, dataset):\n",
        "        i \u003d 0\n",
        "        self.read_data(dataset)\n",
        "        for w in self.item_lst:\n",
        "            self.recur_eclat(w, self.item_dict[w], self.min_support, 2, i)\n",
        "            i+\u003d1\n",
        "        return self\n",
        "        \n",
        "    #вывод в форме словаря {ItemSet: support(ItemSet)}\n",
        "    def transform(self):\n",
        "        return {k: \"{0:.4f}%\".format((v[0]+0.0)/self.data_size*100) for k, v in self.final_dict.items()}"
      ]
    },
    {
      "cell_type": "markdown",
      "metadata": {
        "colab_type": "text",
        "collapsed": true,
        "id": "3LxE5IxKr-iU",
        "pycharm": {}
      },
      "source": [
        "Потестируем"
      ]
    },
    {
      "cell_type": "code",
      "execution_count": null,
      "metadata": {
        "colab": {},
        "colab_type": "code",
        "executionInfo": {
          "elapsed": 749,
          "status": "ok",
          "timestamp": 1599552043861,
          "user": {
            "displayName": "Алсу Нурутдинова",
            "photoUrl": "",
            "userId": "04111228134967302103"
          },
          "user_tz": -180
        },
        "id": "boolYTtOr-iU",
        "pycharm": {
          "is_executing": true
        }
      },
      "outputs": [],
      "source": [
        "#создадим экземпляр класса с нужными нам параметрами\n",
        "model \u003d Eclat(min_support \u003d 0.009, max_items \u003d 4, min_items \u003d 3)"
      ]
    },
    {
      "cell_type": "code",
      "execution_count": null,
      "metadata": {
        "colab": {
          "base_uri": "https://localhost:8080/",
          "height": 183
        },
        "colab_type": "code",
        "executionInfo": {
          "elapsed": 736,
          "status": "error",
          "timestamp": 1599552043864,
          "user": {
            "displayName": "Алсу Нурутдинова",
            "photoUrl": "",
            "userId": "04111228134967302103"
          },
          "user_tz": -180
        },
        "id": "Y3TJMe8Vr-iW",
        "outputId": "9fa7397e-bf77-4a2d-b55c-21b11ea50203",
        "pycharm": {
          "is_executing": true
        }
      },
      "outputs": [],
      "source": [
        "#обучим\n",
        "model.fit(dataset)"
      ]
    },
    {
      "cell_type": "code",
      "execution_count": null,
      "metadata": {
        "colab": {},
        "colab_type": "code",
        "executionInfo": {
          "elapsed": 726,
          "status": "aborted",
          "timestamp": 1599552043862,
          "user": {
            "displayName": "Алсу Нурутдинова",
            "photoUrl": "",
            "userId": "04111228134967302103"
          },
          "user_tz": -180
        },
        "id": "beu2iXiIr-iY",
        "pycharm": {
          "is_executing": true
        }
      },
      "outputs": [],
      "source": [
        "#и визуализируем результаты\n",
        "model.transform()"
      ]
    },
    {
      "cell_type": "markdown",
      "metadata": {
        "colab_type": "text",
        "id": "AdMzojAYr-ia",
        "pycharm": {}
      },
      "source": [
        "Как видно, реализовать алгоритм своими силами довольно просто, хотя с эффективностью стоит поработать:)"
      ]
    },
    {
      "cell_type": "markdown",
      "metadata": {
        "colab_type": "text",
        "id": "h21xbhPQr-ic",
        "pycharm": {}
      },
      "source": [
        "### FP-Growth Algorithm"
      ]
    },
    {
      "cell_type": "markdown",
      "metadata": {
        "colab_type": "text",
        "id": "gFeRRiIdr-if",
        "pycharm": {}
      },
      "source": [
        "#### Реализация в Python"
      ]
    },
    {
      "cell_type": "code",
      "execution_count": null,
      "metadata": {
        "colab": {
          "base_uri": "https://localhost:8080/",
          "height": 305
        },
        "colab_type": "code",
        "executionInfo": {
          "elapsed": 833,
          "status": "error",
          "timestamp": 1599551323040,
          "user": {
            "displayName": "Алсу Нурутдинова",
            "photoUrl": "",
            "userId": "04111228134967302103"
          },
          "user_tz": -180
        },
        "id": "l0hgCb7pr-il",
        "outputId": "d7519bae-dfff-4f7b-bc40-89ad6cf74bcb",
        "pycharm": {
          "is_executing": true
        }
      },
      "outputs": [],
      "source": [
        "import pyfpgrowth"
      ]
    },
    {
      "cell_type": "code",
      "execution_count": null,
      "metadata": {
        "pycharm": {
          "is_executing": true
        }
      },
      "outputs": [],
      "source": [
        "dataset"
      ]
    },
    {
      "cell_type": "code",
      "execution_count": null,
      "metadata": {
        "pycharm": {
          "is_executing": true
        }
      },
      "outputs": [],
      "source": [
        "# Group products by transaction\n",
        "grouped_prods \u003d dataset.groupby(\u0027InvoiceNo\u0027)[\u0027Description\u0027].apply(lambda group_series: group_series.tolist()).reset_index()\n",
        "groups_lists \u003d grouped_prods[\u0027Description\u0027].values.tolist()\n",
        "# Convert table to list\n",
        "# Set threshold of count to 2\n",
        "data \u003d list(filter(lambda x: len(x) \u003e 2, groups_lists))"
      ]
    },
    {
      "cell_type": "code",
      "execution_count": null,
      "metadata": {
        "pycharm": {
          "is_executing": true
        }
      },
      "outputs": [],
      "source": [
        "#Сгенериуем паттерны\n",
        "import pandas as pd\n",
        "from mlxtend.preprocessing import TransactionEncoder\n",
        "\n",
        "te \u003d TransactionEncoder()\n",
        "te_ary \u003d te.fit(data).transform(data)\n",
        "df \u003d pd.DataFrame(te_ary, columns\u003dte.columns_)\n",
        "df"
      ]
    },
    {
      "cell_type": "code",
      "execution_count": null,
      "metadata": {
        "pycharm": {
          "is_executing": true
        }
      },
      "outputs": [],
      "source": [
        "#Сгенериуем правила\n",
        "# use fp-growth algorithm\n",
        "from mlxtend.frequent_patterns import fpgrowth\n",
        "\n",
        "f_patterns \u003d fpgrowth(df, min_support\u003d0.01, use_colnames\u003dTrue)\n",
        "f_patterns"
      ]
    },
    {
      "cell_type": "code",
      "execution_count": null,
      "metadata": {
        "pycharm": {
          "is_executing": true
        }
      },
      "outputs": [],
      "source": [
        "# 2 способ\n",
        "#Сгенериуем паттерны\n",
        "patterns \u003d pyfpgrowth.find_frequent_patterns(data, 20)\n",
        "#Выучим правила\n",
        "rules \u003d pyfpgrowth.generate_association_rules(patterns, 50);\n",
        "#Покажем\n",
        "rules"
      ]
    },
    {
      "cell_type": "code",
      "execution_count": null,
      "metadata": {
        "pycharm": {
          "is_executing": true
        }
      },
      "outputs": [],
      "source": ""
    },
    {
      "cell_type": "code",
      "execution_count": null,
      "outputs": [],
      "source": "",
      "metadata": {
        "pycharm": {
          "metadata": false,
          "name": "#%%\n",
          "is_executing": true
        }
      }
    },
    {
      "cell_type": "code",
      "execution_count": null,
      "outputs": [],
      "source": "\n",
      "metadata": {
        "pycharm": {
          "metadata": false,
          "name": "#%%\n"
        }
      }
    }
  ],
  "metadata": {
    "colab": {
      "name": "ARules.ipynb",
      "provenance": []
    },
    "kernelspec": {
      "display_name": "Python 3",
      "language": "python",
      "name": "python3"
    },
    "language_info": {
      "codemirror_mode": {
        "name": "ipython",
        "version": 3
      },
      "file_extension": ".py",
      "mimetype": "text/x-python",
      "name": "python",
      "nbconvert_exporter": "python",
      "pygments_lexer": "ipython3",
      "version": "3.8.3"
    }
  },
  "nbformat": 4,
  "nbformat_minor": 1
}